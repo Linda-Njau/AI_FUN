{
 "cells": [
  {
   "cell_type": "code",
   "execution_count": 1,
   "metadata": {},
   "outputs": [
    {
     "name": "stderr",
     "output_type": "stream",
     "text": [
      "2025-04-18 15:49:37.566310: I external/local_xla/xla/tsl/cuda/cudart_stub.cc:32] Could not find cuda drivers on your machine, GPU will not be used.\n",
      "2025-04-18 15:49:37.974455: I external/local_xla/xla/tsl/cuda/cudart_stub.cc:32] Could not find cuda drivers on your machine, GPU will not be used.\n",
      "2025-04-18 15:49:38.301629: E external/local_xla/xla/stream_executor/cuda/cuda_fft.cc:467] Unable to register cuFFT factory: Attempting to register factory for plugin cuFFT when one has already been registered\n",
      "WARNING: All log messages before absl::InitializeLog() is called are written to STDERR\n",
      "E0000 00:00:1744980578.588420    5567 cuda_dnn.cc:8579] Unable to register cuDNN factory: Attempting to register factory for plugin cuDNN when one has already been registered\n",
      "E0000 00:00:1744980578.663470    5567 cuda_blas.cc:1407] Unable to register cuBLAS factory: Attempting to register factory for plugin cuBLAS when one has already been registered\n",
      "W0000 00:00:1744980579.279258    5567 computation_placer.cc:177] computation placer already registered. Please check linkage and avoid linking the same target more than once.\n",
      "W0000 00:00:1744980579.279318    5567 computation_placer.cc:177] computation placer already registered. Please check linkage and avoid linking the same target more than once.\n",
      "W0000 00:00:1744980579.279325    5567 computation_placer.cc:177] computation placer already registered. Please check linkage and avoid linking the same target more than once.\n",
      "W0000 00:00:1744980579.279336    5567 computation_placer.cc:177] computation placer already registered. Please check linkage and avoid linking the same target more than once.\n",
      "2025-04-18 15:49:39.354325: I tensorflow/core/platform/cpu_feature_guard.cc:210] This TensorFlow binary is optimized to use available CPU instructions in performance-critical operations.\n",
      "To enable the following instructions: AVX2 FMA, in other operations, rebuild TensorFlow with the appropriate compiler flags.\n"
     ]
    },
    {
     "name": "stdout",
     "output_type": "stream",
     "text": [
      "2.19.0\n"
     ]
    }
   ],
   "source": [
    "import tensorflow as tf\n",
    "import numpy as np\n",
    "print(tf.__version__)"
   ]
  },
  {
   "cell_type": "code",
   "execution_count": 3,
   "metadata": {},
   "outputs": [
    {
     "name": "stdout",
     "output_type": "stream",
     "text": [
      "tf.Tensor(\n",
      "[[1 2]\n",
      " [3 4]], shape=(2, 2), dtype=int32)\n",
      "tf.Tensor(\n",
      "[[-1.296533    1.964634   -0.13534766]\n",
      " [-0.8697801   0.6480674  -0.14582518]\n",
      " [ 0.11347812 -0.6666227   1.2697934 ]\n",
      " [ 1.6674975   1.41918    -1.6746067 ]\n",
      " [ 0.6599529   0.18557562 -0.3171452 ]\n",
      " [-0.18897922 -0.72494525  1.6163296 ]\n",
      " [ 1.4349558   0.12525599  0.33311215]\n",
      " [ 0.69647014  0.23802787 -1.5317138 ]\n",
      " [-0.57999045  0.9952556   1.0030856 ]\n",
      " [ 0.31878582 -0.2906592   1.161229  ]], shape=(10, 3), dtype=float32)\n"
     ]
    },
    {
     "name": "stderr",
     "output_type": "stream",
     "text": [
      "2025-04-18 15:54:22.034521: E external/local_xla/xla/stream_executor/cuda/cuda_platform.cc:51] failed call to cuInit: INTERNAL: CUDA error: Failed call to cuInit: UNKNOWN ERROR (303)\n"
     ]
    }
   ],
   "source": [
    "a = tf.constant([[1,2],[3,4]])\n",
    "print(a)\n",
    "a = tf.random.normal(shape=(10,3))\n",
    "print(a)"
   ]
  },
  {
   "cell_type": "code",
   "execution_count": 4,
   "metadata": {},
   "outputs": [
    {
     "name": "stdout",
     "output_type": "stream",
     "text": [
      "tf.Tensor(\n",
      "[[ 0.          0.          0.        ]\n",
      " [ 0.42675287 -1.3165665  -0.01047751]\n",
      " [ 1.410011   -2.6312566   1.4051411 ]\n",
      " [ 2.9640305  -0.5454539  -1.539259  ]\n",
      " [ 1.9564859  -1.7790583  -0.18179753]\n",
      " [ 1.1075537  -2.6895792   1.7516773 ]\n",
      " [ 2.7314887  -1.839378    0.4684598 ]\n",
      " [ 1.9930031  -1.7266061  -1.3963661 ]\n",
      " [ 0.71654254 -0.96937835  1.1384332 ]\n",
      " [ 1.6153188  -2.2552931   1.2965767 ]], shape=(10, 3), dtype=float32)\n",
      "[0.2734783 7.1323013 0.8734122]\n"
     ]
    }
   ],
   "source": [
    "print(a-a[0])\n",
    "print(tf.exp(a)[0].numpy())"
   ]
  },
  {
   "cell_type": "code",
   "execution_count": 6,
   "metadata": {},
   "outputs": [
    {
     "name": "stdout",
     "output_type": "stream",
     "text": [
      "<tf.Variable 'Variable:0' shape=(3,) dtype=float32, numpy=array([1.9558574, 3.8937695, 1.5789111], dtype=float32)>\n"
     ]
    }
   ],
   "source": [
    "s = tf.Variable(tf.zeros_like(a[0]))\n",
    "for i in a:\n",
    "    s.assign_add(i)\n",
    "\n",
    "print(s)"
   ]
  },
  {
   "cell_type": "code",
   "execution_count": 7,
   "metadata": {},
   "outputs": [
    {
     "data": {
      "text/plain": [
       "<tf.Tensor: shape=(3,), dtype=float32, numpy=array([1.9558574, 3.8937695, 1.5789111], dtype=float32)>"
      ]
     },
     "execution_count": 7,
     "metadata": {},
     "output_type": "execute_result"
    }
   ],
   "source": [
    "tf.reduce_sum(a,axis=0)"
   ]
  },
  {
   "cell_type": "code",
   "execution_count": null,
   "metadata": {},
   "outputs": [],
   "source": [
    "a = tf.random.normal(shape=(2,2))\n",
    "b = tf.random.normal(shape=(2,2))\n",
    "\n",
    "with tf.GradientTape() as tape:\n",
    "    tape.watch(a)\n",
    "    c= tf.sqrt(tf.square(a) + tf.square(b))\n",
    "    dc_da = tape.gradient(c, a)\n",
    "    print(dc_da)"
   ]
  },
  {
   "cell_type": "code",
   "execution_count": 13,
   "metadata": {},
   "outputs": [],
   "source": [
    "import matplotlib.pyplot as plt\n",
    "from sklearn.datasets import make_classification, make_regression\n",
    "from sklearn.model_selection import train_test_split\n",
    "import random"
   ]
  },
  {
   "cell_type": "code",
   "execution_count": 23,
   "metadata": {},
   "outputs": [
    {
     "data": {
      "text/plain": [
       "<matplotlib.collections.PathCollection at 0x7f5f6150cd00>"
      ]
     },
     "execution_count": 23,
     "metadata": {},
     "output_type": "execute_result"
    },
    {
     "data": {
      "image/png": "[encoded data removed]",
      "text/plain": [
       "<Figure size 640x480 with 1 Axes>"
      ]
     },
     "metadata": {},
     "output_type": "display_data"
    }
   ],
   "source": [
    "np.random.seed(13)\n",
    "\n",
    "train_x = np.linspace(0, 3, 120)\n",
    "train_labels = 2 * train_x + 0.9 + np.random.randn(*train_x.shape) * 0.5\n",
    "\n",
    "plt.scatter(train_x,train_labels)"
   ]
  },
  {
   "cell_type": "code",
   "execution_count": 30,
   "metadata": {},
   "outputs": [],
   "source": [
    "input_dim = 1\n",
    "output_dim = 1\n",
    "learning_rate = 0.1\n",
    "\n",
    "w = tf.Variable([[100.0]])\n",
    "b = tf.Variable(tf.zeros(shape=(output_dim,)))\n",
    "\n",
    "def f(x):\n",
    "    return tf.matmul(x,w) + b\n",
    "\n",
    "def compute_loss(labels,predictions):\n",
    "    return tf.reduce_mean(tf.square(labels - predictions))"
   ]
  },
  {
   "cell_type": "code",
   "execution_count": 42,
   "metadata": {},
   "outputs": [],
   "source": [
    "@tf.function\n",
    "def train_on_batch(x, y):\n",
    "    with tf.GradientTape() as tape:\n",
    "        predictions = f(x)\n",
    "        loss = compute_loss(y, predictions)    \n",
    "        dloss_dw, dloss_db = tape.gradient(loss, [w, b])\n",
    "    w.assign_sub(learning_rate * dloss_dw)\n",
    "    b.assign_sub(learning_rate * dloss_db)\n",
    "    return loss\n",
    "    "
   ]
  },
  {
   "cell_type": "code",
   "execution_count": 54,
   "metadata": {},
   "outputs": [],
   "source": [
    "indices = np.random.permutation(len(train_x))\n",
    "features = tf.constant(train_x[indices], dtype=tf.float32)\n",
    "labels = tf.constant(train_labels[indices],dtype=tf.float32)"
   ]
  },
  {
   "cell_type": "code",
   "execution_count": null,
   "metadata": {},
   "outputs": [
    {
     "name": "stdout",
     "output_type": "stream",
     "text": [
      "Epoch 0: last batch loss = 2.0106\n",
      "Epoch 0: last batch loss = 1.7754\n",
      "Epoch 0: last batch loss = 1.0755\n",
      "Epoch 0: last batch loss = 1.6449\n",
      "Epoch 0: last batch loss = 1.5665\n",
      "Epoch 0: last batch loss = 2.6036\n",
      "Epoch 0: last batch loss = 0.9287\n",
      "Epoch 0: last batch loss = 1.4189\n",
      "Epoch 0: last batch loss = 1.4635\n",
      "Epoch 0: last batch loss = 0.3921\n",
      "Epoch 0: last batch loss = 1.0131\n",
      "Epoch 0: last batch loss = 1.5268\n",
      "Epoch 0: last batch loss = 3.1448\n",
      "Epoch 0: last batch loss = 2.2234\n",
      "Epoch 0: last batch loss = 0.2724\n",
      "Epoch 0: last batch loss = 2.2008\n",
      "Epoch 0: last batch loss = 0.6442\n",
      "Epoch 0: last batch loss = 1.3575\n",
      "Epoch 0: last batch loss = 1.2365\n",
      "Epoch 0: last batch loss = 0.2494\n",
      "Epoch 0: last batch loss = 0.6994\n",
      "Epoch 0: last batch loss = 0.6440\n",
      "Epoch 0: last batch loss = 0.5927\n",
      "Epoch 0: last batch loss = 0.4314\n",
      "Epoch 0: last batch loss = 0.2586\n",
      "Epoch 0: last batch loss = 0.0770\n",
      "Epoch 0: last batch loss = 0.7574\n",
      "Epoch 0: last batch loss = 0.6192\n",
      "Epoch 0: last batch loss = 0.2381\n",
      "Epoch 0: last batch loss = 0.6313\n",
      "Epoch 1: last batch loss = 0.3170\n",
      "Epoch 1: last batch loss = 0.1028\n",
      "Epoch 1: last batch loss = 0.2181\n",
      "Epoch 1: last batch loss = 0.1175\n",
      "Epoch 1: last batch loss = 0.4649\n",
      "Epoch 1: last batch loss = 0.3580\n",
      "Epoch 1: last batch loss = 0.2747\n",
      "Epoch 1: last batch loss = 0.4384\n",
      "Epoch 1: last batch loss = 0.2331\n",
      "Epoch 1: last batch loss = 0.1700\n",
      "Epoch 1: last batch loss = 0.1734\n",
      "Epoch 1: last batch loss = 0.3531\n",
      "Epoch 1: last batch loss = 1.5562\n",
      "Epoch 1: last batch loss = 0.8979\n",
      "Epoch 1: last batch loss = 0.1350\n",
      "Epoch 1: last batch loss = 0.4384\n",
      "Epoch 1: last batch loss = 0.4353\n",
      "Epoch 1: last batch loss = 0.5494\n",
      "Epoch 1: last batch loss = 0.4346\n",
      "Epoch 1: last batch loss = 0.2147\n",
      "Epoch 1: last batch loss = 0.3653\n",
      "Epoch 1: last batch loss = 0.5574\n",
      "Epoch 1: last batch loss = 0.3126\n",
      "Epoch 1: last batch loss = 0.1812\n",
      "Epoch 1: last batch loss = 0.0263\n",
      "Epoch 1: last batch loss = 0.0818\n",
      "Epoch 1: last batch loss = 0.4355\n",
      "Epoch 1: last batch loss = 0.2261\n",
      "Epoch 1: last batch loss = 0.0811\n",
      "Epoch 1: last batch loss = 0.2607\n",
      "Epoch 2: last batch loss = 0.1999\n",
      "Epoch 2: last batch loss = 0.0305\n",
      "Epoch 2: last batch loss = 0.2200\n",
      "Epoch 2: last batch loss = 0.0164\n",
      "Epoch 2: last batch loss = 0.3363\n",
      "Epoch 2: last batch loss = 0.1117\n",
      "Epoch 2: last batch loss = 0.2582\n",
      "Epoch 2: last batch loss = 0.3522\n",
      "Epoch 2: last batch loss = 0.0954\n",
      "Epoch 2: last batch loss = 0.3765\n",
      "Epoch 2: last batch loss = 0.1555\n",
      "Epoch 2: last batch loss = 0.3008\n",
      "Epoch 2: last batch loss = 1.2133\n",
      "Epoch 2: last batch loss = 0.6607\n",
      "Epoch 2: last batch loss = 0.1244\n",
      "Epoch 2: last batch loss = 0.1959\n",
      "Epoch 2: last batch loss = 0.4253\n",
      "Epoch 2: last batch loss = 0.3965\n",
      "Epoch 2: last batch loss = 0.2999\n",
      "Epoch 2: last batch loss = 0.2700\n",
      "Epoch 2: last batch loss = 0.3398\n",
      "Epoch 2: last batch loss = 0.5983\n",
      "Epoch 2: last batch loss = 0.2720\n",
      "Epoch 2: last batch loss = 0.1493\n",
      "Epoch 2: last batch loss = 0.0290\n",
      "Epoch 2: last batch loss = 0.1280\n",
      "Epoch 2: last batch loss = 0.3875\n",
      "Epoch 2: last batch loss = 0.1597\n",
      "Epoch 2: last batch loss = 0.0652\n",
      "Epoch 2: last batch loss = 0.2274\n",
      "Epoch 3: last batch loss = 0.2020\n",
      "Epoch 3: last batch loss = 0.0428\n",
      "Epoch 3: last batch loss = 0.2407\n",
      "Epoch 3: last batch loss = 0.0149\n",
      "Epoch 3: last batch loss = 0.3147\n",
      "Epoch 3: last batch loss = 0.0735\n",
      "Epoch 3: last batch loss = 0.2674\n",
      "Epoch 3: last batch loss = 0.3434\n",
      "Epoch 3: last batch loss = 0.0735\n",
      "Epoch 3: last batch loss = 0.4575\n",
      "Epoch 3: last batch loss = 0.1684\n",
      "Epoch 3: last batch loss = 0.3090\n",
      "Epoch 3: last batch loss = 1.1244\n",
      "Epoch 3: last batch loss = 0.6045\n",
      "Epoch 3: last batch loss = 0.1238\n",
      "Epoch 3: last batch loss = 0.1480\n",
      "Epoch 3: last batch loss = 0.4265\n",
      "Epoch 3: last batch loss = 0.3591\n",
      "Epoch 3: last batch loss = 0.2691\n",
      "Epoch 3: last batch loss = 0.2911\n",
      "Epoch 3: last batch loss = 0.3383\n",
      "Epoch 3: last batch loss = 0.6153\n",
      "Epoch 3: last batch loss = 0.2636\n",
      "Epoch 3: last batch loss = 0.1435\n",
      "Epoch 3: last batch loss = 0.0354\n",
      "Epoch 3: last batch loss = 0.1449\n",
      "Epoch 3: last batch loss = 0.3774\n",
      "Epoch 3: last batch loss = 0.1445\n",
      "Epoch 3: last batch loss = 0.0630\n",
      "Epoch 3: last batch loss = 0.2239\n",
      "Epoch 4: last batch loss = 0.2056\n",
      "Epoch 4: last batch loss = 0.0490\n",
      "Epoch 4: last batch loss = 0.2482\n",
      "Epoch 4: last batch loss = 0.0167\n",
      "Epoch 4: last batch loss = 0.3098\n",
      "Epoch 4: last batch loss = 0.0653\n",
      "Epoch 4: last batch loss = 0.2712\n",
      "Epoch 4: last batch loss = 0.3421\n",
      "Epoch 4: last batch loss = 0.0686\n",
      "Epoch 4: last batch loss = 0.4825\n",
      "Epoch 4: last batch loss = 0.1736\n",
      "Epoch 4: last batch loss = 0.3132\n",
      "Epoch 4: last batch loss = 1.0998\n",
      "Epoch 4: last batch loss = 0.5893\n",
      "Epoch 4: last batch loss = 0.1238\n",
      "Epoch 4: last batch loss = 0.1360\n",
      "Epoch 4: last batch loss = 0.4272\n",
      "Epoch 4: last batch loss = 0.3490\n",
      "Epoch 4: last batch loss = 0.2610\n",
      "Epoch 4: last batch loss = 0.2976\n",
      "Epoch 4: last batch loss = 0.3383\n",
      "Epoch 4: last batch loss = 0.6206\n",
      "Epoch 4: last batch loss = 0.2614\n",
      "Epoch 4: last batch loss = 0.1421\n",
      "Epoch 4: last batch loss = 0.0377\n",
      "Epoch 4: last batch loss = 0.1500\n",
      "Epoch 4: last batch loss = 0.3748\n",
      "Epoch 4: last batch loss = 0.1404\n",
      "Epoch 4: last batch loss = 0.0626\n",
      "Epoch 4: last batch loss = 0.2233\n",
      "Epoch 5: last batch loss = 0.2068\n",
      "Epoch 5: last batch loss = 0.0510\n",
      "Epoch 5: last batch loss = 0.2505\n",
      "Epoch 5: last batch loss = 0.0174\n",
      "Epoch 5: last batch loss = 0.3085\n",
      "Epoch 5: last batch loss = 0.0631\n",
      "Epoch 5: last batch loss = 0.2723\n",
      "Epoch 5: last batch loss = 0.3419\n",
      "Epoch 5: last batch loss = 0.0674\n",
      "Epoch 5: last batch loss = 0.4897\n",
      "Epoch 5: last batch loss = 0.1752\n",
      "Epoch 5: last batch loss = 0.3146\n",
      "Epoch 5: last batch loss = 1.0928\n",
      "Epoch 5: last batch loss = 0.5851\n",
      "Epoch 5: last batch loss = 0.1238\n",
      "Epoch 5: last batch loss = 0.1327\n",
      "Epoch 5: last batch loss = 0.4274\n",
      "Epoch 5: last batch loss = 0.3461\n",
      "Epoch 5: last batch loss = 0.2587\n",
      "Epoch 5: last batch loss = 0.2995\n",
      "Epoch 5: last batch loss = 0.3384\n",
      "Epoch 5: last batch loss = 0.6222\n",
      "Epoch 5: last batch loss = 0.2609\n",
      "Epoch 5: last batch loss = 0.1417\n",
      "Epoch 5: last batch loss = 0.0384\n",
      "Epoch 5: last batch loss = 0.1515\n",
      "Epoch 5: last batch loss = 0.3740\n",
      "Epoch 5: last batch loss = 0.1393\n",
      "Epoch 5: last batch loss = 0.0625\n",
      "Epoch 5: last batch loss = 0.2232\n",
      "Epoch 6: last batch loss = 0.2072\n",
      "Epoch 6: last batch loss = 0.0516\n",
      "Epoch 6: last batch loss = 0.2511\n",
      "Epoch 6: last batch loss = 0.0176\n",
      "Epoch 6: last batch loss = 0.3081\n",
      "Epoch 6: last batch loss = 0.0625\n",
      "Epoch 6: last batch loss = 0.2727\n",
      "Epoch 6: last batch loss = 0.3418\n",
      "Epoch 6: last batch loss = 0.0670\n",
      "Epoch 6: last batch loss = 0.4918\n",
      "Epoch 6: last batch loss = 0.1757\n",
      "Epoch 6: last batch loss = 0.3150\n",
      "Epoch 6: last batch loss = 1.0908\n",
      "Epoch 6: last batch loss = 0.5839\n",
      "Epoch 6: last batch loss = 0.1238\n",
      "Epoch 6: last batch loss = 0.1318\n",
      "Epoch 6: last batch loss = 0.4275\n",
      "Epoch 6: last batch loss = 0.3453\n",
      "Epoch 6: last batch loss = 0.2581\n",
      "Epoch 6: last batch loss = 0.3000\n",
      "Epoch 6: last batch loss = 0.3384\n",
      "Epoch 6: last batch loss = 0.6226\n",
      "Epoch 6: last batch loss = 0.2607\n",
      "Epoch 6: last batch loss = 0.1416\n",
      "Epoch 6: last batch loss = 0.0386\n",
      "Epoch 6: last batch loss = 0.1519\n",
      "Epoch 6: last batch loss = 0.3738\n",
      "Epoch 6: last batch loss = 0.1390\n",
      "Epoch 6: last batch loss = 0.0624\n",
      "Epoch 6: last batch loss = 0.2232\n",
      "Epoch 7: last batch loss = 0.2073\n",
      "Epoch 7: last batch loss = 0.0518\n",
      "Epoch 7: last batch loss = 0.2513\n",
      "Epoch 7: last batch loss = 0.0176\n",
      "Epoch 7: last batch loss = 0.3080\n",
      "Epoch 7: last batch loss = 0.0624\n",
      "Epoch 7: last batch loss = 0.2728\n",
      "Epoch 7: last batch loss = 0.3418\n",
      "Epoch 7: last batch loss = 0.0669\n",
      "Epoch 7: last batch loss = 0.4924\n",
      "Epoch 7: last batch loss = 0.1758\n",
      "Epoch 7: last batch loss = 0.3151\n",
      "Epoch 7: last batch loss = 1.0902\n",
      "Epoch 7: last batch loss = 0.5836\n",
      "Epoch 7: last batch loss = 0.1238\n",
      "Epoch 7: last batch loss = 0.1315\n",
      "Epoch 7: last batch loss = 0.4275\n",
      "Epoch 7: last batch loss = 0.3451\n",
      "Epoch 7: last batch loss = 0.2579\n",
      "Epoch 7: last batch loss = 0.3002\n",
      "Epoch 7: last batch loss = 0.3384\n",
      "Epoch 7: last batch loss = 0.6228\n",
      "Epoch 7: last batch loss = 0.2606\n",
      "Epoch 7: last batch loss = 0.1416\n",
      "Epoch 7: last batch loss = 0.0386\n",
      "Epoch 7: last batch loss = 0.1520\n",
      "Epoch 7: last batch loss = 0.3738\n",
      "Epoch 7: last batch loss = 0.1389\n",
      "Epoch 7: last batch loss = 0.0624\n",
      "Epoch 7: last batch loss = 0.2232\n",
      "Epoch 8: last batch loss = 0.2073\n",
      "Epoch 8: last batch loss = 0.0518\n",
      "Epoch 8: last batch loss = 0.2514\n",
      "Epoch 8: last batch loss = 0.0177\n",
      "Epoch 8: last batch loss = 0.3080\n",
      "Epoch 8: last batch loss = 0.0623\n",
      "Epoch 8: last batch loss = 0.2728\n",
      "Epoch 8: last batch loss = 0.3418\n",
      "Epoch 8: last batch loss = 0.0669\n",
      "Epoch 8: last batch loss = 0.4926\n",
      "Epoch 8: last batch loss = 0.1758\n",
      "Epoch 8: last batch loss = 0.3151\n",
      "Epoch 8: last batch loss = 1.0901\n",
      "Epoch 8: last batch loss = 0.5835\n",
      "Epoch 8: last batch loss = 0.1238\n",
      "Epoch 8: last batch loss = 0.1315\n",
      "Epoch 8: last batch loss = 0.4275\n",
      "Epoch 8: last batch loss = 0.3450\n",
      "Epoch 8: last batch loss = 0.2578\n",
      "Epoch 8: last batch loss = 0.3002\n",
      "Epoch 8: last batch loss = 0.3384\n",
      "Epoch 8: last batch loss = 0.6228\n",
      "Epoch 8: last batch loss = 0.2606\n",
      "Epoch 8: last batch loss = 0.1416\n",
      "Epoch 8: last batch loss = 0.0387\n",
      "Epoch 8: last batch loss = 0.1521\n",
      "Epoch 8: last batch loss = 0.3738\n",
      "Epoch 8: last batch loss = 0.1389\n",
      "Epoch 8: last batch loss = 0.0624\n",
      "Epoch 8: last batch loss = 0.2232\n",
      "Epoch 9: last batch loss = 0.2073\n",
      "Epoch 9: last batch loss = 0.0518\n",
      "Epoch 9: last batch loss = 0.2514\n",
      "Epoch 9: last batch loss = 0.0177\n",
      "Epoch 9: last batch loss = 0.3080\n",
      "Epoch 9: last batch loss = 0.0623\n",
      "Epoch 9: last batch loss = 0.2728\n",
      "Epoch 9: last batch loss = 0.3418\n",
      "Epoch 9: last batch loss = 0.0669\n",
      "Epoch 9: last batch loss = 0.4926\n",
      "Epoch 9: last batch loss = 0.1759\n",
      "Epoch 9: last batch loss = 0.3151\n",
      "Epoch 9: last batch loss = 1.0900\n",
      "Epoch 9: last batch loss = 0.5834\n",
      "Epoch 9: last batch loss = 0.1238\n",
      "Epoch 9: last batch loss = 0.1314\n",
      "Epoch 9: last batch loss = 0.4275\n",
      "Epoch 9: last batch loss = 0.3450\n",
      "Epoch 9: last batch loss = 0.2578\n",
      "Epoch 9: last batch loss = 0.3002\n",
      "Epoch 9: last batch loss = 0.3384\n",
      "Epoch 9: last batch loss = 0.6228\n",
      "Epoch 9: last batch loss = 0.2606\n",
      "Epoch 9: last batch loss = 0.1415\n",
      "Epoch 9: last batch loss = 0.0387\n",
      "Epoch 9: last batch loss = 0.1521\n",
      "Epoch 9: last batch loss = 0.3738\n",
      "Epoch 9: last batch loss = 0.1388\n",
      "Epoch 9: last batch loss = 0.0624\n",
      "Epoch 9: last batch loss = 0.2232\n"
     ]
    }
   ],
   "source": [
    "batch_size = 4\n",
    "for epoch in range(10):\n",
    "    for i in range(0,len(features),batch_size):\n",
    "        loss = train_on_batch(tf.reshape(features[i:i+batch_size], (-1,1)),tf.reshape(labels[i:i+batch_size],(-1,1)))\n",
    "        print('Epoch %d: last batch loss = %.4f' % (epoch, float(loss)))"
   ]
  },
  {
   "cell_type": "code",
   "execution_count": 57,
   "metadata": {},
   "outputs": [
    {
     "name": "stdout",
     "output_type": "stream",
     "text": [
      "Epoch 0: last batch loss = 173.4585\n",
      "Epoch 1: last batch loss = 13.8459\n",
      "Epoch 2: last batch loss = 4.5407\n",
      "Epoch 3: last batch loss = 3.7364\n",
      "Epoch 4: last batch loss = 3.4334\n",
      "Epoch 5: last batch loss = 3.1790\n"
     ]
    },
    {
     "name": "stderr",
     "output_type": "stream",
     "text": [
      "2025-04-18 18:38:15.046115: I tensorflow/core/framework/local_rendezvous.cc:407] Local rendezvous is aborting with status: OUT_OF_RANGE: End of sequence\n"
     ]
    },
    {
     "name": "stdout",
     "output_type": "stream",
     "text": [
      "Epoch 6: last batch loss = 2.9458\n",
      "Epoch 7: last batch loss = 2.7311\n",
      "Epoch 8: last batch loss = 2.5332\n",
      "Epoch 9: last batch loss = 2.3508\n"
     ]
    }
   ],
   "source": [
    "w.assign([[10.0]])\n",
    "b.assign([0.0])\n",
    "\n",
    "dataset = tf.data.Dataset.from_tensor_slices((train_x.astype(np.float32), train_labels.astype(np.float32)))\n",
    "dataset = dataset.shuffle(buffer_size=1024).batch(256)\n",
    "\n",
    "for epoch in range(10):\n",
    "    for step, (x, y) in enumerate(dataset):\n",
    "        loss = train_on_batch(tf.reshape(x,(-1,1)), tf.reshape(y, (-1,1)))\n",
    "    print('Epoch %d: last batch loss = %.4f' % (epoch, float(loss)))    "
   ]
  },
  {
   "cell_type": "code",
   "execution_count": 58,
   "metadata": {},
   "outputs": [
    {
     "data": {
      "text/plain": [
       "[<matplotlib.lines.Line2D at 0x7f5f6084ece0>]"
      ]
     },
     "execution_count": 58,
     "metadata": {},
     "output_type": "execute_result"
    },
    {
     "data": {
      "image/png": "[encoded data removed]",
      "text/plain": [
       "<Figure size 640x480 with 1 Axes>"
      ]
     },
     "metadata": {},
     "output_type": "display_data"
    }
   ],
   "source": [
    "plt.scatter(train_x,train_labels)\n",
    "x = np.array([min(train_x),max(train_x)])\n",
    "y = w.numpy()[0,0]*x+b.numpy()[0]\n",
    "plt.plot(x,y,color='red')"
   ]
  }
 ],
 "metadata": {
  "kernelspec": {
   "display_name": "practiceprojects-XTl8awCb",
   "language": "python",
   "name": "python3"
  },
  "language_info": {
   "codemirror_mode": {
    "name": "ipython",
    "version": 3
   },
   "file_extension": ".py",
   "mimetype": "text/x-python",
   "name": "python",
   "nbconvert_exporter": "python",
   "pygments_lexer": "ipython3",
   "version": "3.10.12"
  }
 },
 "nbformat": 4,
 "nbformat_minor": 2
}
