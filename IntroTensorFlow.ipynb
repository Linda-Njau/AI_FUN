{
 "cells": [
  {
   "cell_type": "code",
   "execution_count": 1,
   "metadata": {},
   "outputs": [
    {
     "name": "stderr",
     "output_type": "stream",
     "text": [
      "2025-04-18 15:49:37.566310: I external/local_xla/xla/tsl/cuda/cudart_stub.cc:32] Could not find cuda drivers on your machine, GPU will not be used.\n",
      "2025-04-18 15:49:37.974455: I external/local_xla/xla/tsl/cuda/cudart_stub.cc:32] Could not find cuda drivers on your machine, GPU will not be used.\n",
      "2025-04-18 15:49:38.301629: E external/local_xla/xla/stream_executor/cuda/cuda_fft.cc:467] Unable to register cuFFT factory: Attempting to register factory for plugin cuFFT when one has already been registered\n",
      "WARNING: All log messages before absl::InitializeLog() is called are written to STDERR\n",
      "E0000 00:00:1744980578.588420    5567 cuda_dnn.cc:8579] Unable to register cuDNN factory: Attempting to register factory for plugin cuDNN when one has already been registered\n",
      "E0000 00:00:1744980578.663470    5567 cuda_blas.cc:1407] Unable to register cuBLAS factory: Attempting to register factory for plugin cuBLAS when one has already been registered\n",
      "W0000 00:00:1744980579.279258    5567 computation_placer.cc:177] computation placer already registered. Please check linkage and avoid linking the same target more than once.\n",
      "W0000 00:00:1744980579.279318    5567 computation_placer.cc:177] computation placer already registered. Please check linkage and avoid linking the same target more than once.\n",
      "W0000 00:00:1744980579.279325    5567 computation_placer.cc:177] computation placer already registered. Please check linkage and avoid linking the same target more than once.\n",
      "W0000 00:00:1744980579.279336    5567 computation_placer.cc:177] computation placer already registered. Please check linkage and avoid linking the same target more than once.\n",
      "2025-04-18 15:49:39.354325: I tensorflow/core/platform/cpu_feature_guard.cc:210] This TensorFlow binary is optimized to use available CPU instructions in performance-critical operations.\n",
      "To enable the following instructions: AVX2 FMA, in other operations, rebuild TensorFlow with the appropriate compiler flags.\n"
     ]
    },
    {
     "name": "stdout",
     "output_type": "stream",
     "text": [
      "2.19.0\n"
     ]
    }
   ],
   "source": [
    "import tensorflow as tf\n",
    "import numpy as np\n",
    "print(tf.__version__)"
   ]
  },
  {
   "cell_type": "code",
   "execution_count": 3,
   "metadata": {},
   "outputs": [
    {
     "name": "stdout",
     "output_type": "stream",
     "text": [
      "tf.Tensor(\n",
      "[[1 2]\n",
      " [3 4]], shape=(2, 2), dtype=int32)\n",
      "tf.Tensor(\n",
      "[[-1.296533    1.964634   -0.13534766]\n",
      " [-0.8697801   0.6480674  -0.14582518]\n",
      " [ 0.11347812 -0.6666227   1.2697934 ]\n",
      " [ 1.6674975   1.41918    -1.6746067 ]\n",
      " [ 0.6599529   0.18557562 -0.3171452 ]\n",
      " [-0.18897922 -0.72494525  1.6163296 ]\n",
      " [ 1.4349558   0.12525599  0.33311215]\n",
      " [ 0.69647014  0.23802787 -1.5317138 ]\n",
      " [-0.57999045  0.9952556   1.0030856 ]\n",
      " [ 0.31878582 -0.2906592   1.161229  ]], shape=(10, 3), dtype=float32)\n"
     ]
    },
    {
     "name": "stderr",
     "output_type": "stream",
     "text": [
      "2025-04-18 15:54:22.034521: E external/local_xla/xla/stream_executor/cuda/cuda_platform.cc:51] failed call to cuInit: INTERNAL: CUDA error: Failed call to cuInit: UNKNOWN ERROR (303)\n"
     ]
    }
   ],
   "source": [
    "a = tf.constant([[1,2],[3,4]])\n",
    "print(a)\n",
    "a = tf.random.normal(shape=(10,3))\n",
    "print(a)"
   ]
  },
  {
   "cell_type": "code",
   "execution_count": 4,
   "metadata": {},
   "outputs": [
    {
     "name": "stdout",
     "output_type": "stream",
     "text": [
      "tf.Tensor(\n",
      "[[ 0.          0.          0.        ]\n",
      " [ 0.42675287 -1.3165665  -0.01047751]\n",
      " [ 1.410011   -2.6312566   1.4051411 ]\n",
      " [ 2.9640305  -0.5454539  -1.539259  ]\n",
      " [ 1.9564859  -1.7790583  -0.18179753]\n",
      " [ 1.1075537  -2.6895792   1.7516773 ]\n",
      " [ 2.7314887  -1.839378    0.4684598 ]\n",
      " [ 1.9930031  -1.7266061  -1.3963661 ]\n",
      " [ 0.71654254 -0.96937835  1.1384332 ]\n",
      " [ 1.6153188  -2.2552931   1.2965767 ]], shape=(10, 3), dtype=float32)\n",
      "[0.2734783 7.1323013 0.8734122]\n"
     ]
    }
   ],
   "source": [
    "print(a-a[0])\n",
    "print(tf.exp(a)[0].numpy())"
   ]
  },
  {
   "cell_type": "code",
   "execution_count": 6,
   "metadata": {},
   "outputs": [
    {
     "name": "stdout",
     "output_type": "stream",
     "text": [
      "<tf.Variable 'Variable:0' shape=(3,) dtype=float32, numpy=array([1.9558574, 3.8937695, 1.5789111], dtype=float32)>\n"
     ]
    }
   ],
   "source": [
    "s = tf.Variable(tf.zeros_like(a[0]))\n",
    "for i in a:\n",
    "    s.assign_add(i)\n",
    "\n",
    "print(s)"
   ]
  },
  {
   "cell_type": "code",
   "execution_count": 7,
   "metadata": {},
   "outputs": [
    {
     "data": {
      "text/plain": [
       "<tf.Tensor: shape=(3,), dtype=float32, numpy=array([1.9558574, 3.8937695, 1.5789111], dtype=float32)>"
      ]
     },
     "execution_count": 7,
     "metadata": {},
     "output_type": "execute_result"
    }
   ],
   "source": [
    "tf.reduce_sum(a,axis=0)"
   ]
  },
  {
   "cell_type": "code",
   "execution_count": null,
   "metadata": {},
   "outputs": [],
   "source": [
    "a = tf.random.normal(shape=(2,2))\n",
    "b = tf.random.normal(shape=(2,2))\n",
    "\n",
    "with tf.GradientTape() as tape:\n",
    "    tape.watch(a)\n",
    "    c= tf.sqrt(tf.square(a) + tf.square(b))\n",
    "    dc_da = tape.gradient(c, a)\n",
    "    print(dc_da)"
   ]
  },
  {
   "cell_type": "code",
   "execution_count": 13,
   "metadata": {},
   "outputs": [],
   "source": [
    "import matplotlib.pyplot as plt\n",
    "from sklearn.datasets import make_classification, make_regression\n",
    "from sklearn.model_selection import train_test_split\n",
    "import random"
   ]
  },
  {
   "cell_type": "code",
   "execution_count": 23,
   "metadata": {},
   "outputs": [
    {
     "data": {
      "text/plain": [
       "<matplotlib.collections.PathCollection at 0x7f5f6150cd00>"
      ]
     },
     "execution_count": 23,
     "metadata": {},
     "output_type": "execute_result"
    },
    {
     "data": {
      "image/png": "[encoded data removed]",
      "text/plain": [
       "<Figure size 640x480 with 1 Axes>"
      ]
     },
     "metadata": {},
     "output_type": "display_data"
    }
   ],
   "source": [
    "np.random.seed(13)\n",
    "\n",
    "train_x = np.linspace(0, 3, 120)\n",
    "train_labels = 2 * train_x + 0.9 + np.random.randn(*train_x.shape) * 0.5\n",
    "\n",
    "plt.scatter(train_x,train_labels)"
   ]
  },
  {
   "cell_type": "code",
   "execution_count": 30,
   "metadata": {},
   "outputs": [],
   "source": [
    "input_dim = 1\n",
    "output_dim = 1\n",
    "learning_rate = 0.1\n",
    "\n",
    "w = tf.Variable([[100.0]])\n",
    "b = tf.Variable(tf.zeros(shape=(output_dim,)))\n",
    "\n",
    "def f(x):\n",
    "    return tf.matmul(x,w) + b\n",
    "\n",
    "def compute_loss(labels,predictions):\n",
    "    return tf.reduce_mean(tf.square(labels - predictions))"
   ]
  },
  {
   "cell_type": "code",
   "execution_count": 31,
   "metadata": {},
   "outputs": [],
   "source": [
    "def train_on_batch(x, y):\n",
    "    with tf.GradientTape() as tape:\n",
    "        predictions = f(x)\n",
    "        loss = compute_loss(y, predictions)    \n",
    "        dloss_dw, dloss_db = tape.gradient(loss, [w, b])\n",
    "    w.assign_sub(learning_rate * dloss_dw)\n",
    "    b.assign_sub(learning_rate * dloss_db)\n",
    "    return loss\n",
    "    "
   ]
  },
  {
   "cell_type": "code",
   "execution_count": 32,
   "metadata": {},
   "outputs": [],
   "source": [
    "indices = np.random.permutation(len(train_x))\n",
    "features = tf.constant(train_x[indices], dtype=tf.float32)\n",
    "labels = tf.constant(train_labels[indices],dtype=tf.float32)"
   ]
  },
  {
   "cell_type": "code",
   "execution_count": 33,
   "metadata": {},
   "outputs": [
    {
     "name": "stdout",
     "output_type": "stream",
     "text": [
      "Epoch 0: last batch loss = 11212.1211\n",
      "Epoch 0: last batch loss = 5468.1289\n",
      "Epoch 0: last batch loss = 7304.0566\n",
      "Epoch 0: last batch loss = 500.2587\n",
      "Epoch 0: last batch loss = 519.4969\n",
      "Epoch 0: last batch loss = 227.0221\n",
      "Epoch 0: last batch loss = 382.5918\n",
      "Epoch 0: last batch loss = 277.4458\n",
      "Epoch 0: last batch loss = 536.8304\n",
      "Epoch 0: last batch loss = 467.5684\n",
      "Epoch 0: last batch loss = 367.3214\n",
      "Epoch 0: last batch loss = 521.6855\n",
      "Epoch 0: last batch loss = 176.9613\n",
      "Epoch 0: last batch loss = 338.4565\n",
      "Epoch 0: last batch loss = 90.6623\n",
      "Epoch 0: last batch loss = 164.4886\n",
      "Epoch 0: last batch loss = 30.0692\n",
      "Epoch 0: last batch loss = 304.4500\n",
      "Epoch 0: last batch loss = 189.5940\n",
      "Epoch 0: last batch loss = 109.0936\n",
      "Epoch 0: last batch loss = 230.4593\n",
      "Epoch 0: last batch loss = 176.7120\n",
      "Epoch 0: last batch loss = 167.2293\n",
      "Epoch 0: last batch loss = 133.4223\n",
      "Epoch 0: last batch loss = 203.3217\n",
      "Epoch 0: last batch loss = 99.7180\n",
      "Epoch 0: last batch loss = 50.4039\n",
      "Epoch 0: last batch loss = 20.4140\n",
      "Epoch 0: last batch loss = 126.8566\n",
      "Epoch 0: last batch loss = 85.7259\n",
      "Epoch 1: last batch loss = 69.8363\n",
      "Epoch 1: last batch loss = 44.1301\n",
      "Epoch 1: last batch loss = 74.3741\n",
      "Epoch 1: last batch loss = 42.8290\n",
      "Epoch 1: last batch loss = 41.7801\n",
      "Epoch 1: last batch loss = 21.5118\n",
      "Epoch 1: last batch loss = 35.2124\n",
      "Epoch 1: last batch loss = 26.2160\n",
      "Epoch 1: last batch loss = 49.7560\n",
      "Epoch 1: last batch loss = 40.2012\n",
      "Epoch 1: last batch loss = 30.6954\n",
      "Epoch 1: last batch loss = 44.4306\n",
      "Epoch 1: last batch loss = 15.6106\n",
      "Epoch 1: last batch loss = 32.9436\n",
      "Epoch 1: last batch loss = 8.4065\n",
      "Epoch 1: last batch loss = 15.6871\n",
      "Epoch 1: last batch loss = 2.5399\n",
      "Epoch 1: last batch loss = 26.9316\n",
      "Epoch 1: last batch loss = 19.0273\n",
      "Epoch 1: last batch loss = 8.7023\n",
      "Epoch 1: last batch loss = 20.6819\n",
      "Epoch 1: last batch loss = 13.9468\n",
      "Epoch 1: last batch loss = 14.6112\n",
      "Epoch 1: last batch loss = 12.8159\n",
      "Epoch 1: last batch loss = 20.0400\n",
      "Epoch 1: last batch loss = 9.3220\n",
      "Epoch 1: last batch loss = 4.6367\n",
      "Epoch 1: last batch loss = 2.5076\n",
      "Epoch 1: last batch loss = 12.1471\n",
      "Epoch 1: last batch loss = 7.8985\n",
      "Epoch 2: last batch loss = 4.9564\n",
      "Epoch 2: last batch loss = 4.0516\n",
      "Epoch 2: last batch loss = 6.7454\n",
      "Epoch 2: last batch loss = 3.7770\n",
      "Epoch 2: last batch loss = 2.6852\n",
      "Epoch 2: last batch loss = 2.4699\n",
      "Epoch 2: last batch loss = 3.9227\n",
      "Epoch 2: last batch loss = 2.9898\n",
      "Epoch 2: last batch loss = 5.4694\n",
      "Epoch 2: last batch loss = 3.5558\n",
      "Epoch 2: last batch loss = 2.3336\n",
      "Epoch 2: last batch loss = 3.6215\n",
      "Epoch 2: last batch loss = 1.5521\n",
      "Epoch 2: last batch loss = 4.1871\n",
      "Epoch 2: last batch loss = 1.1111\n",
      "Epoch 2: last batch loss = 1.8966\n",
      "Epoch 2: last batch loss = 0.2592\n",
      "Epoch 2: last batch loss = 2.5701\n",
      "Epoch 2: last batch loss = 2.7018\n",
      "Epoch 2: last batch loss = 0.8641\n",
      "Epoch 2: last batch loss = 2.0736\n",
      "Epoch 2: last batch loss = 1.0311\n",
      "Epoch 2: last batch loss = 1.4340\n",
      "Epoch 2: last batch loss = 1.5191\n",
      "Epoch 2: last batch loss = 2.5301\n",
      "Epoch 2: last batch loss = 1.1144\n",
      "Epoch 2: last batch loss = 0.5071\n",
      "Epoch 2: last batch loss = 0.6346\n",
      "Epoch 2: last batch loss = 1.5040\n",
      "Epoch 2: last batch loss = 0.8813\n",
      "Epoch 3: last batch loss = 0.1745\n",
      "Epoch 3: last batch loss = 0.7222\n",
      "Epoch 3: last batch loss = 0.6859\n",
      "Epoch 3: last batch loss = 0.5038\n",
      "Epoch 3: last batch loss = 0.1588\n",
      "Epoch 3: last batch loss = 0.5036\n",
      "Epoch 3: last batch loss = 0.9333\n",
      "Epoch 3: last batch loss = 0.5896\n",
      "Epoch 3: last batch loss = 1.1082\n",
      "Epoch 3: last batch loss = 0.5776\n",
      "Epoch 3: last batch loss = 0.1809\n",
      "Epoch 3: last batch loss = 0.3397\n",
      "Epoch 3: last batch loss = 0.3423\n",
      "Epoch 3: last batch loss = 1.0766\n",
      "Epoch 3: last batch loss = 0.4451\n",
      "Epoch 3: last batch loss = 0.4643\n",
      "Epoch 3: last batch loss = 0.0980\n",
      "Epoch 3: last batch loss = 0.4196\n",
      "Epoch 3: last batch loss = 0.8613\n",
      "Epoch 3: last batch loss = 0.4599\n",
      "Epoch 3: last batch loss = 0.3739\n",
      "Epoch 3: last batch loss = 0.2961\n",
      "Epoch 3: last batch loss = 0.3358\n",
      "Epoch 3: last batch loss = 0.3124\n",
      "Epoch 3: last batch loss = 0.5650\n",
      "Epoch 3: last batch loss = 0.3095\n",
      "Epoch 3: last batch loss = 0.1095\n",
      "Epoch 3: last batch loss = 0.3804\n",
      "Epoch 3: last batch loss = 0.3952\n",
      "Epoch 3: last batch loss = 0.2073\n",
      "Epoch 4: last batch loss = 0.0220\n",
      "Epoch 4: last batch loss = 0.4841\n",
      "Epoch 4: last batch loss = 0.1147\n",
      "Epoch 4: last batch loss = 0.2606\n",
      "Epoch 4: last batch loss = 0.2031\n",
      "Epoch 4: last batch loss = 0.2430\n",
      "Epoch 4: last batch loss = 0.5977\n",
      "Epoch 4: last batch loss = 0.2710\n",
      "Epoch 4: last batch loss = 0.5835\n",
      "Epoch 4: last batch loss = 0.3852\n",
      "Epoch 4: last batch loss = 0.0903\n",
      "Epoch 4: last batch loss = 0.1388\n",
      "Epoch 4: last batch loss = 0.2426\n",
      "Epoch 4: last batch loss = 0.6290\n",
      "Epoch 4: last batch loss = 0.3787\n",
      "Epoch 4: last batch loss = 0.2724\n",
      "Epoch 4: last batch loss = 0.0953\n",
      "Epoch 4: last batch loss = 0.2263\n",
      "Epoch 4: last batch loss = 0.5786\n",
      "Epoch 4: last batch loss = 0.5080\n",
      "Epoch 4: last batch loss = 0.2043\n",
      "Epoch 4: last batch loss = 0.3490\n",
      "Epoch 4: last batch loss = 0.2562\n",
      "Epoch 4: last batch loss = 0.1424\n",
      "Epoch 4: last batch loss = 0.2652\n",
      "Epoch 4: last batch loss = 0.2135\n",
      "Epoch 4: last batch loss = 0.0640\n",
      "Epoch 4: last batch loss = 0.3315\n",
      "Epoch 4: last batch loss = 0.2458\n",
      "Epoch 4: last batch loss = 0.1306\n",
      "Epoch 5: last batch loss = 0.0875\n",
      "Epoch 5: last batch loss = 0.4790\n",
      "Epoch 5: last batch loss = 0.0527\n",
      "Epoch 5: last batch loss = 0.2521\n",
      "Epoch 5: last batch loss = 0.2856\n",
      "Epoch 5: last batch loss = 0.1940\n",
      "Epoch 5: last batch loss = 0.5465\n",
      "Epoch 5: last batch loss = 0.2110\n",
      "Epoch 5: last batch loss = 0.4952\n",
      "Epoch 5: last batch loss = 0.3886\n",
      "Epoch 5: last batch loss = 0.1114\n",
      "Epoch 5: last batch loss = 0.1467\n",
      "Epoch 5: last batch loss = 0.2358\n",
      "Epoch 5: last batch loss = 0.5379\n",
      "Epoch 5: last batch loss = 0.3705\n",
      "Epoch 5: last batch loss = 0.2359\n",
      "Epoch 5: last batch loss = 0.0984\n",
      "Epoch 5: last batch loss = 0.2079\n",
      "Epoch 5: last batch loss = 0.5179\n",
      "Epoch 5: last batch loss = 0.5370\n",
      "Epoch 5: last batch loss = 0.1833\n",
      "Epoch 5: last batch loss = 0.3883\n",
      "Epoch 5: last batch loss = 0.2541\n",
      "Epoch 5: last batch loss = 0.1085\n",
      "Epoch 5: last batch loss = 0.2011\n",
      "Epoch 5: last batch loss = 0.1976\n",
      "Epoch 5: last batch loss = 0.0569\n",
      "Epoch 5: last batch loss = 0.3193\n",
      "Epoch 5: last batch loss = 0.2172\n",
      "Epoch 5: last batch loss = 0.1187\n",
      "Epoch 6: last batch loss = 0.1165\n",
      "Epoch 6: last batch loss = 0.4833\n",
      "Epoch 6: last batch loss = 0.0437\n",
      "Epoch 6: last batch loss = 0.2552\n",
      "Epoch 6: last batch loss = 0.3160\n",
      "Epoch 6: last batch loss = 0.1820\n",
      "Epoch 6: last batch loss = 0.5356\n",
      "Epoch 6: last batch loss = 0.1963\n",
      "Epoch 6: last batch loss = 0.4750\n",
      "Epoch 6: last batch loss = 0.3949\n",
      "Epoch 6: last batch loss = 0.1218\n",
      "Epoch 6: last batch loss = 0.1550\n",
      "Epoch 6: last batch loss = 0.2357\n",
      "Epoch 6: last batch loss = 0.5146\n",
      "Epoch 6: last batch loss = 0.3691\n",
      "Epoch 6: last batch loss = 0.2269\n",
      "Epoch 6: last batch loss = 0.0997\n",
      "Epoch 6: last batch loss = 0.2058\n",
      "Epoch 6: last batch loss = 0.5019\n",
      "Epoch 6: last batch loss = 0.5468\n",
      "Epoch 6: last batch loss = 0.1797\n",
      "Epoch 6: last batch loss = 0.4020\n",
      "Epoch 6: last batch loss = 0.2554\n",
      "Epoch 6: last batch loss = 0.0999\n",
      "Epoch 6: last batch loss = 0.1843\n",
      "Epoch 6: last batch loss = 0.1940\n",
      "Epoch 6: last batch loss = 0.0553\n",
      "Epoch 6: last batch loss = 0.3159\n",
      "Epoch 6: last batch loss = 0.2102\n",
      "Epoch 6: last batch loss = 0.1161\n",
      "Epoch 7: last batch loss = 0.1260\n",
      "Epoch 7: last batch loss = 0.4850\n",
      "Epoch 7: last batch loss = 0.0419\n",
      "Epoch 7: last batch loss = 0.2566\n",
      "Epoch 7: last batch loss = 0.3256\n",
      "Epoch 7: last batch loss = 0.1786\n",
      "Epoch 7: last batch loss = 0.5327\n",
      "Epoch 7: last batch loss = 0.1922\n",
      "Epoch 7: last batch loss = 0.4695\n",
      "Epoch 7: last batch loss = 0.3972\n",
      "Epoch 7: last batch loss = 0.1253\n",
      "Epoch 7: last batch loss = 0.1580\n",
      "Epoch 7: last batch loss = 0.2359\n",
      "Epoch 7: last batch loss = 0.5080\n",
      "Epoch 7: last batch loss = 0.3688\n",
      "Epoch 7: last batch loss = 0.2244\n",
      "Epoch 7: last batch loss = 0.1001\n",
      "Epoch 7: last batch loss = 0.2055\n",
      "Epoch 7: last batch loss = 0.4973\n",
      "Epoch 7: last batch loss = 0.5498\n",
      "Epoch 7: last batch loss = 0.1788\n",
      "Epoch 7: last batch loss = 0.4063\n",
      "Epoch 7: last batch loss = 0.2559\n",
      "Epoch 7: last batch loss = 0.0975\n",
      "Epoch 7: last batch loss = 0.1796\n",
      "Epoch 7: last batch loss = 0.1930\n",
      "Epoch 7: last batch loss = 0.0549\n",
      "Epoch 7: last batch loss = 0.3149\n",
      "Epoch 7: last batch loss = 0.2082\n",
      "Epoch 7: last batch loss = 0.1154\n",
      "Epoch 8: last batch loss = 0.1289\n",
      "Epoch 8: last batch loss = 0.4856\n",
      "Epoch 8: last batch loss = 0.0414\n",
      "Epoch 8: last batch loss = 0.2571\n",
      "Epoch 8: last batch loss = 0.3285\n",
      "Epoch 8: last batch loss = 0.1777\n",
      "Epoch 8: last batch loss = 0.5319\n",
      "Epoch 8: last batch loss = 0.1910\n",
      "Epoch 8: last batch loss = 0.4679\n",
      "Epoch 8: last batch loss = 0.3979\n",
      "Epoch 8: last batch loss = 0.1263\n",
      "Epoch 8: last batch loss = 0.1589\n",
      "Epoch 8: last batch loss = 0.2359\n",
      "Epoch 8: last batch loss = 0.5061\n",
      "Epoch 8: last batch loss = 0.3687\n",
      "Epoch 8: last batch loss = 0.2236\n",
      "Epoch 8: last batch loss = 0.1002\n",
      "Epoch 8: last batch loss = 0.2055\n",
      "Epoch 8: last batch loss = 0.4960\n",
      "Epoch 8: last batch loss = 0.5507\n",
      "Epoch 8: last batch loss = 0.1786\n",
      "Epoch 8: last batch loss = 0.4075\n",
      "Epoch 8: last batch loss = 0.2561\n",
      "Epoch 8: last batch loss = 0.0968\n",
      "Epoch 8: last batch loss = 0.1782\n",
      "Epoch 8: last batch loss = 0.1927\n",
      "Epoch 8: last batch loss = 0.0548\n",
      "Epoch 8: last batch loss = 0.3146\n",
      "Epoch 8: last batch loss = 0.2076\n",
      "Epoch 8: last batch loss = 0.1152\n",
      "Epoch 9: last batch loss = 0.1297\n",
      "Epoch 9: last batch loss = 0.4858\n",
      "Epoch 9: last batch loss = 0.0413\n",
      "Epoch 9: last batch loss = 0.2572\n",
      "Epoch 9: last batch loss = 0.3293\n",
      "Epoch 9: last batch loss = 0.1774\n",
      "Epoch 9: last batch loss = 0.5317\n",
      "Epoch 9: last batch loss = 0.1906\n",
      "Epoch 9: last batch loss = 0.4675\n",
      "Epoch 9: last batch loss = 0.3981\n",
      "Epoch 9: last batch loss = 0.1266\n",
      "Epoch 9: last batch loss = 0.1592\n",
      "Epoch 9: last batch loss = 0.2360\n",
      "Epoch 9: last batch loss = 0.5055\n",
      "Epoch 9: last batch loss = 0.3687\n",
      "Epoch 9: last batch loss = 0.2234\n",
      "Epoch 9: last batch loss = 0.1003\n",
      "Epoch 9: last batch loss = 0.2054\n",
      "Epoch 9: last batch loss = 0.4956\n",
      "Epoch 9: last batch loss = 0.5510\n",
      "Epoch 9: last batch loss = 0.1785\n",
      "Epoch 9: last batch loss = 0.4079\n",
      "Epoch 9: last batch loss = 0.2561\n",
      "Epoch 9: last batch loss = 0.0966\n",
      "Epoch 9: last batch loss = 0.1777\n",
      "Epoch 9: last batch loss = 0.1926\n",
      "Epoch 9: last batch loss = 0.0547\n",
      "Epoch 9: last batch loss = 0.3145\n",
      "Epoch 9: last batch loss = 0.2074\n",
      "Epoch 9: last batch loss = 0.1151\n"
     ]
    }
   ],
   "source": [
    "batch_size = 4\n",
    "for epoch in range(10):\n",
    "    for i in range(0,len(features),batch_size):\n",
    "        loss = train_on_batch(tf.reshape(features[i:i+batch_size], (-1,1)),tf.reshape(labels[i:i+batch_size],(-1,1)))\n",
    "        print('Epoch %d: last batch loss = %.4f' % (epoch, float(loss)))"
   ]
  }
 ],
 "metadata": {
  "kernelspec": {
   "display_name": "practiceprojects-XTl8awCb",
   "language": "python",
   "name": "python3"
  },
  "language_info": {
   "codemirror_mode": {
    "name": "ipython",
    "version": 3
   },
   "file_extension": ".py",
   "mimetype": "text/x-python",
   "name": "python",
   "nbconvert_exporter": "python",
   "pygments_lexer": "ipython3",
   "version": "3.10.12"
  }
 },
 "nbformat": 4,
 "nbformat_minor": 2
}
