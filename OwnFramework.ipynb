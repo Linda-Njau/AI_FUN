{
 "cells": [
  {
   "cell_type": "code",
   "execution_count": null,
   "metadata": {},
   "outputs": [],
   "source": [
    "%matplotlib nbagg\n",
    "import matplotlib.pylot as plt\n",
    "from matplotlib import gridspec\n",
    "from sklearn.datasets import make_classification\n",
    "import numpy as np\n",
    "np.random.seed(0)\n",
    "import random\n",
    "\n",
    "n = 100\n",
    "X, Y = make_classification(n_samples = n, n_features=2, n_redundant=0, n_informative=2, flip_y=0.2)\n",
    "X = X.astype(np.float32)\n",
    "Y = Y.astype(np.int32)\n",
    "\n",
    "train_x, test_x = np.split(x, [n*8//10])\n",
    "train_labels, test_labels = np.split(Y, [n*8//10])\n",
    "\n",
    "def plot_dataset(suptitle, features, labels):\n",
    "    fig, ax = plt.subplots(1, 1)\n",
    "    fig.suptitle(suptitle, fontsize=16)\n",
    "    ax.set_xlabel('$x_i[0]$ -- (feature 1)')\n",
    "    ax.set_ylabel('$x_i[1]$ -- (feature 2)')\n",
    "    \n",
    "    colors = ['r' if l else 'b' for l in labels]\n",
    "    ax.scatter(features[:,0], features[:,1], marker='o', c= colors, s=100, alpha =0.5)\n",
    "    fig.show()\n",
    "\n",
    "plot_dataset('Scatterplot of the training data', train_x,train_labels)\n",
    "plt.show()"
   ]
  }
 ],
 "metadata": {
  "language_info": {
   "name": "python"
  }
 },
 "nbformat": 4,
 "nbformat_minor": 2
}
