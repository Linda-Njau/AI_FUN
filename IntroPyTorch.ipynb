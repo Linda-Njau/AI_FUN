{
 "cells": [
  {
   "cell_type": "code",
   "execution_count": null,
   "id": "b323b894",
   "metadata": {},
   "outputs": [],
   "source": [
    "import torch\n",
    "torch.__version__"
   ]
  },
  {
   "cell_type": "code",
   "execution_count": null,
   "id": "1923bd87",
   "metadata": {},
   "outputs": [],
   "source": [
    "a = torch.tensor([[1.2][3,4]])\n",
    "print(a)\n",
    "a = torch.randn(size=(10,3))\n",
    "print(a)"
   ]
  },
  {
   "cell_type": "code",
   "execution_count": null,
   "id": "8850da73",
   "metadata": {},
   "outputs": [],
   "source": [
    "print(a-a[0])\n",
    "print(torch.exp(a)[0].numpy())"
   ]
  },
  {
   "cell_type": "code",
   "execution_count": null,
   "id": "d145aa3d",
   "metadata": {},
   "outputs": [],
   "source": [
    "u = torch.tensor(5)\n",
    "print(\"Result when adding out-of-place:\",u.add(torch.tensor(3)))\n",
    "u.add_(torch.tensor(3))\n",
    "print(\"Result after adding in-place:\",u)\n"
   ]
  },
  {
   "cell_type": "code",
   "execution_count": null,
   "id": "17be5f61",
   "metadata": {},
   "outputs": [],
   "source": [
    "s = torch.zeros_like(a[0])\n",
    "for i in a:\n",
    "    s.add_(i)\n",
    "print(s)"
   ]
  },
  {
   "cell_type": "code",
   "execution_count": null,
   "id": "1ab48bad",
   "metadata": {},
   "outputs": [],
   "source": [
    "torch.sum(a,axis=0)"
   ]
  }
 ],
 "metadata": {
  "language_info": {
   "name": "python"
  }
 },
 "nbformat": 4,
 "nbformat_minor": 5
}
