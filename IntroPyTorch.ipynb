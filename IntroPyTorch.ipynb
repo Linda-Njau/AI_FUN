{
 "cells": [
  {
   "cell_type": "code",
   "execution_count": null,
   "id": "b323b894",
   "metadata": {},
   "outputs": [],
   "source": [
    "import torch\n",
    "torch.__version__"
   ]
  },
  {
   "cell_type": "code",
   "execution_count": null,
   "id": "1923bd87",
   "metadata": {},
   "outputs": [],
   "source": [
    "a = torch.tensor([[1.2][3,4]])\n",
    "print(a)\n",
    "a = torch.randn(size=(10,3))\n",
    "print(a)"
   ]
  },
  {
   "cell_type": "code",
   "execution_count": null,
   "id": "8850da73",
   "metadata": {},
   "outputs": [],
   "source": [
    "print(a-a[0])\n",
    "print(torch.exp(a)[0].numpy())"
   ]
  },
  {
   "cell_type": "code",
   "execution_count": null,
   "id": "d145aa3d",
   "metadata": {},
   "outputs": [],
   "source": [
    "u = torch.tensor(5)\n",
    "print(\"Result when adding out-of-place:\",u.add(torch.tensor(3)))\n",
    "u.add_(torch.tensor(3))\n",
    "print(\"Result after adding in-place:\",u)\n"
   ]
  },
  {
   "cell_type": "code",
   "execution_count": null,
   "id": "17be5f61",
   "metadata": {},
   "outputs": [],
   "source": [
    "s = torch.zeros_like(a[0])\n",
    "for i in a:\n",
    "    s.add_(i)\n",
    "print(s)"
   ]
  },
  {
   "cell_type": "code",
   "execution_count": null,
   "id": "1ab48bad",
   "metadata": {},
   "outputs": [],
   "source": [
    "torch.sum(a,axis=0)"
   ]
  },
  {
   "cell_type": "code",
   "execution_count": null,
   "id": "a782ab72",
   "metadata": {},
   "outputs": [],
   "source": [
    "a = torch.randn(size=(2,2), requires_grad=True)\n",
    "b = torch.randn(size=(2,2))\n",
    "\n",
    "c = torch.mean(torch.sqrt(torch.square(a) + torch.square(b)))\n",
    "c.backward()\n",
    "\n",
    "print(a.grad)"
   ]
  },
  {
   "cell_type": "code",
   "execution_count": null,
   "id": "4c385d41",
   "metadata": {},
   "outputs": [],
   "source": [
    "c = torch.mean(torch.sqrt(torch.square(a) + torch.square(b)))\n",
    "c.backward(retain_graph=True)\n",
    "c.backward(retain_graph=True)\n",
    "print(a.grad)\n",
    "a.grad.zero_()\n",
    "c.backward()\n",
    "print(a.grad)"
   ]
  },
  {
   "cell_type": "code",
   "execution_count": null,
   "id": "fd13870a",
   "metadata": {},
   "outputs": [],
   "source": [
    "c =torch.sqrt(torch.square(a) + torch.square(b))\n",
    "c.backward(torch.eye(2))\n",
    "print(a.grad)"
   ]
  },
  {
   "cell_type": "code",
   "execution_count": null,
   "id": "a5aa910f",
   "metadata": {},
   "outputs": [],
   "source": [
    "x = torch.zeros(2,require_grad=True)\n",
    "f = lambda x : (x-torch.tensor([3,-2])).pow(2).sum()\n",
    "lr = 0.1"
   ]
  },
  {
   "cell_type": "code",
   "execution_count": null,
   "id": "5fec69d7",
   "metadata": {},
   "outputs": [],
   "source": [
    "for i in range(15):\n",
    "    y =f(x)\n",
    "    y.backward()\n",
    "    gr = x.grad\n",
    "    x.data.add_(-lr*gr)\n",
    "    x.grad.zero_()\n",
    "    print(\"Step {}: x[0]={}, x[1]={}\".format(i,x[0],x[1]))"
   ]
  },
  {
   "cell_type": "code",
   "execution_count": 2,
   "id": "65000bb4",
   "metadata": {},
   "outputs": [],
   "source": [
    "import numpy as np\n",
    "import matplotlib.pyplot as plt\n",
    "from sklearn.datasets import make_classification, make_regression\n",
    "from sklearn.model_selection import train_test_split\n",
    "import random\n"
   ]
  },
  {
   "cell_type": "code",
   "execution_count": 3,
   "id": "212441ec",
   "metadata": {},
   "outputs": [
    {
     "data": {
      "text/plain": [
       "<matplotlib.collections.PathCollection at 0x7f9c49450490>"
      ]
     },
     "execution_count": 3,
     "metadata": {},
     "output_type": "execute_result"
    },
    {
     "data": {
      "image/png": "[encoded data removed]",
      "text/plain": [
       "<Figure size 640x480 with 1 Axes>"
      ]
     },
     "metadata": {},
     "output_type": "display_data"
    }
   ],
   "source": [
    "np.random.seed(13)\n",
    "\n",
    "train_x = np.linspace(0, 3, 120)\n",
    "train_labels = 2 * train_x + 0.9 + np.random.randn(*train_x.shape) * 0.5\n",
    "\n",
    "plt.scatter(train_x,train_labels)"
   ]
  },
  {
   "cell_type": "code",
   "execution_count": 4,
   "id": "e3a35a65",
   "metadata": {},
   "outputs": [
    {
     "ename": "NameError",
     "evalue": "name 'torch' is not defined",
     "output_type": "error",
     "traceback": [
      "\u001b[0;31m---------------------------------------------------------------------------\u001b[0m",
      "\u001b[0;31mNameError\u001b[0m                                 Traceback (most recent call last)",
      "Cell \u001b[0;32mIn[4], line 5\u001b[0m\n\u001b[1;32m      2\u001b[0m output_dim \u001b[38;5;241m=\u001b[39m \u001b[38;5;241m1\u001b[39m\n\u001b[1;32m      3\u001b[0m learning_rate \u001b[38;5;241m=\u001b[39m \u001b[38;5;241m0.1\u001b[39m\n\u001b[0;32m----> 5\u001b[0m w \u001b[38;5;241m=\u001b[39m \u001b[43mtorch\u001b[49m\u001b[38;5;241m.\u001b[39mtensor([\u001b[38;5;241m100.0\u001b[39m], reguires_grad\u001b[38;5;241m=\u001b[39m\u001b[38;5;28;01mTrue\u001b[39;00m,dtype\u001b[38;5;241m=\u001b[39mtorch\u001b[38;5;241m.\u001b[39mfloat32)\n\u001b[1;32m      6\u001b[0m b \u001b[38;5;241m=\u001b[39m torch\u001b[38;5;241m.\u001b[39mzeros(size\u001b[38;5;241m=\u001b[39m(output_dim,),requires_grad\u001b[38;5;241m=\u001b[39m\u001b[38;5;28;01mTrue\u001b[39;00m)\n\u001b[1;32m      8\u001b[0m \u001b[38;5;28;01mdef\u001b[39;00m\u001b[38;5;250m \u001b[39m\u001b[38;5;21mf\u001b[39m(x):\n",
      "\u001b[0;31mNameError\u001b[0m: name 'torch' is not defined"
     ]
    }
   ],
   "source": [
    "input_dim = 1\n",
    "output_dim = 1\n",
    "learning_rate = 0.1\n",
    "\n",
    "w = torch.tensor([100.0], reguires_grad=True,dtype=torch.float32)\n",
    "b = torch.zeros(size=(output_dim,),requires_grad=True)\n",
    "\n",
    "def f(x):\n",
    "    return torch.matmul(x,w) + b\n",
    "\n",
    "def compute_loss(labels, predictions):\n",
    "    return torch.mean(torch.square(labels - predictions))"
   ]
  },
  {
   "cell_type": "code",
   "execution_count": null,
   "id": "09771cec",
   "metadata": {},
   "outputs": [],
   "source": [
    "def train_on_batch(x, y):\n",
    "    predictions = f(x)\n",
    "    loss = compute_loss(y, predictions)\n",
    "    loss.backward()\n",
    "    w.data.sub_(learning_rate * w.grad)\n",
    "    b.data.sub_(learning_rate * b.grad)\n",
    "    w.grad.zero_()\n",
    "    b.grad.zero_()\n",
    "    return loss"
   ]
  },
  {
   "cell_type": "code",
   "execution_count": null,
   "id": "da21e3a5",
   "metadata": {},
   "outputs": [],
   "source": [
    "indices = np.random.permutation(len(train_x))\n",
    "features = torch.tensor(train_x[indices],dtype=torch.float32)\n",
    "labels = torch.tensor(train_labels[indices],dtype=torch.float32)"
   ]
  },
  {
   "cell_type": "code",
   "execution_count": null,
   "id": "98a87bed",
   "metadata": {},
   "outputs": [
    {
     "ename": "NameError",
     "evalue": "name 'features' is not defined",
     "output_type": "error",
     "traceback": [
      "\u001b[0;31m---------------------------------------------------------------------------\u001b[0m",
      "\u001b[0;31mNameError\u001b[0m                                 Traceback (most recent call last)",
      "Cell \u001b[0;32mIn[1], line 3\u001b[0m\n\u001b[1;32m      1\u001b[0m batch_size \u001b[38;5;241m=\u001b[39m \u001b[38;5;241m4\u001b[39m\n\u001b[1;32m      2\u001b[0m \u001b[38;5;28;01mfor\u001b[39;00m epoch \u001b[38;5;129;01min\u001b[39;00m \u001b[38;5;28mrange\u001b[39m(\u001b[38;5;241m10\u001b[39m):\n\u001b[0;32m----> 3\u001b[0m     \u001b[38;5;28;01mfor\u001b[39;00m i \u001b[38;5;129;01min\u001b[39;00m \u001b[38;5;28mrange\u001b[39m(\u001b[38;5;241m0\u001b[39m,\u001b[38;5;28mlen\u001b[39m(\u001b[43mfeatures\u001b[49m),batch_size):\n\u001b[1;32m      4\u001b[0m         loss \u001b[38;5;241m=\u001b[39m train_on_batch(features[i:i\u001b[38;5;241m+\u001b[39mbatch_size]\u001b[38;5;241m.\u001b[39mview(\u001b[38;5;241m-\u001b[39m\u001b[38;5;241m1\u001b[39m,\u001b[38;5;241m1\u001b[39m),labels[i:i\u001b[38;5;241m+\u001b[39mbatch_size])\n\u001b[1;32m      5\u001b[0m         \u001b[38;5;28mprint\u001b[39m(\u001b[38;5;124m'\u001b[39m\u001b[38;5;124mEpoch \u001b[39m\u001b[38;5;132;01m%d\u001b[39;00m\u001b[38;5;124m: last batch loss = \u001b[39m\u001b[38;5;132;01m%.4f\u001b[39;00m\u001b[38;5;124m'\u001b[39m \u001b[38;5;241m%\u001b[39m (epoch, \u001b[38;5;28mfloat\u001b[39m(loss)))\n",
      "\u001b[0;31mNameError\u001b[0m: name 'features' is not defined"
     ]
    }
   ],
   "source": [
    "batch_size = 4\n",
    "for epoch in range(10):\n",
    "    for i in range(0,len(features),batch_size):\n",
    "        loss = train_on_batch(features[i:i+batch_size].view(-1,1),labels[i:i+batch_size])\n",
    "        print('Epoch %d: last batch loss = %.4f' % (epoch, float(loss)))"
   ]
  },
  {
   "cell_type": "code",
   "execution_count": null,
   "id": "c1c030ef",
   "metadata": {},
   "outputs": [],
   "source": [
    "plt.scatter(train_x,train_labels)\n",
    "x = np.array([min(train_x),max(train_x)])\n",
    "with torch.no_grad():\n",
    "    y = w.numpy()*x+b.numpy()\n",
    "plt.plot(x,y,color='red')"
   ]
  },
  {
   "cell_type": "code",
   "execution_count": null,
   "id": "e4b54cc6",
   "metadata": {},
   "outputs": [],
   "source": [
    "device = 'cuda' if torch.cuda.is_available() else 'cpu'\n",
    "\n",
    "print('Doing computations on '+device)\n",
    "\n",
    "w = torch.tensor([100.0],requires_grad=True,dtype=torch.float32,device=device)\n",
    "b = torch.zeros(size=(output_dim,),requires_grad=True,device=device)\n",
    "\n",
    "def f(x):\n",
    "  return torch.matmul(x,w) + b\n",
    "\n",
    "def compute_loss(labels, predictions):\n",
    "  return torch.mean(torch.square(labels - predictions))\n",
    "\n",
    "def train_on_batch(x, y):\n",
    "  predictions = f(x)\n",
    "  loss = compute_loss(y, predictions)\n",
    "  loss.backward()\n",
    "  w.data.sub_(learning_rate * w.grad)\n",
    "  b.data.sub_(learning_rate * b.grad)\n",
    "  w.grad.zero_()\n",
    "  b.grad.zero_()\n",
    "  return loss\n",
    "\n",
    "batch_size = 4\n",
    "for epoch in range(10):\n",
    "    for i in range(0,len(features),batch_size):\n",
    "        loss = train_on_batch(features[i:i+batch_size].view(-1,1).to(device),labels[i:i+batch_size].to(device))\n",
    "    print('Epoch %d: last batch loss = %.4f' % (epoch, float(loss)))"
   ]
  },
  {
   "cell_type": "code",
   "execution_count": 1,
   "id": "7de3200b",
   "metadata": {},
   "outputs": [
    {
     "ename": "NameError",
     "evalue": "name 'np' is not defined",
     "output_type": "error",
     "traceback": [
      "\u001b[0;31m---------------------------------------------------------------------------\u001b[0m",
      "\u001b[0;31mNameError\u001b[0m                                 Traceback (most recent call last)",
      "Cell \u001b[0;32mIn[1], line 1\u001b[0m\n\u001b[0;32m----> 1\u001b[0m \u001b[43mnp\u001b[49m\u001b[38;5;241m.\u001b[39mrandom\u001b[38;5;241m.\u001b[39mseed(\u001b[38;5;241m0\u001b[39m)\n\u001b[1;32m      3\u001b[0m n \u001b[38;5;241m=\u001b[39m \u001b[38;5;241m100\u001b[39m\n\u001b[1;32m      4\u001b[0m X, Y \u001b[38;5;241m=\u001b[39m make_classification(n_samples \u001b[38;5;241m=\u001b[39m n, n_features\u001b[38;5;241m=\u001b[39m\u001b[38;5;241m2\u001b[39m, n_redundant\u001b[38;5;241m=\u001b[39m\u001b[38;5;241m0\u001b[39m, n_informative\u001b[38;5;241m=\u001b[39m\u001b[38;5;241m2\u001b[39m, flip_y\u001b[38;5;241m=\u001b[39m\u001b[38;5;241m0.1\u001b[39m,class_sep\u001b[38;5;241m=\u001b[39m\u001b[38;5;241m1.5\u001b[39m)\n",
      "\u001b[0;31mNameError\u001b[0m: name 'np' is not defined"
     ]
    }
   ],
   "source": [
    "np.random.seed(0)\n",
    "\n",
    "n = 100\n",
    "X, Y = make_classification(n_samples = n, n_features=2, n_redundant=0, n_informative=2, flip_y=0.1,class_sep=1.5)\n",
    "\n",
    "X = X.astype(np.float32)\n",
    "Y= Y.astype(np.int32)\n",
    "\n",
    "split = [70*n//100, (15+70)*n//100]\n",
    "train_x, valid_x, test_x = np.split(X, split)\n",
    "train_labels,valid_labels,test_labels = np.split(Y, split)"
   ]
  },
  {
   "cell_type": "code",
   "execution_count": null,
   "id": "949f8e15",
   "metadata": {},
   "outputs": [],
   "source": [
    "def plot_dataset(features, labels, W=None, b=None):\n",
    "    fig, ax = plt.subplots(1, 1)\n",
    "    ax.set_xlabel('$x_i[0]$ -- (feature 1)')\n",
    "    ax.set_ylabel('$x_i[1]$ -- (feature 2)')\n",
    "    colors = ['r' if l else 'b' for l in labels]\n",
    "    ax.scatter(features[:, 0], features[:, 1], marker='o', c=colors, s=100, alpha = 0.5)\n",
    "    if W is not None:\n",
    "        min_x = min(features[:,0])\n",
    "        max_x = max(features[:,1])\n",
    "        min_y = min(features[:,1])*(1-.1)\n",
    "        max_y = max(features[:,1])*(1+.1)\n",
    "        cx = np.array([min_x,max_x],dtype=np.float32)\n",
    "        cy = (0.5-W[0]*cx-b)/W[1]\n",
    "        ax.plot(cx,cy,'g')\n",
    "        ax.set_ylim(min_y,max_y)\n",
    "    fig.show()"
   ]
  },
  {
   "cell_type": "code",
   "execution_count": null,
   "id": "234a31db",
   "metadata": {},
   "outputs": [],
   "source": [
    "plot_dataset(train_x, train_labels)"
   ]
  },
  {
   "cell_type": "code",
   "execution_count": null,
   "id": "ae4cde1d",
   "metadata": {},
   "outputs": [],
   "source": [
    "class Network():\n",
    "    def __init__(self):\n",
    "        self.W = torch.randn(size=(2,1),requires_grad=True)\n",
    "        self.b = torch.zeros(size=(1,),requires_grad=True)\n",
    "    \n",
    "    def forward(self,x):\n",
    "        return torch.matmul(x,self.W)+self.b\n",
    "    \n",
    "    def zero_grad(self):\n",
    "        self.W.data.zero_()\n",
    "        self.b.data.zero_()\n",
    "        \n",
    "    def update(self,lr=0.1):\n",
    "        self.W.data.sub_(lr*self.W.grad)\n",
    "        self.b.data.sub_(lr*self.b.grad)\n",
    "\n",
    "net = Network()"
   ]
  },
  {
   "cell_type": "code",
   "execution_count": null,
   "id": "2f564a06",
   "metadata": {},
   "outputs": [],
   "source": [
    "def train_on_batch(net, x, y):\n",
    "    z = net.forward(x).flatten()\n",
    "    loss = torch.nn.functional.binary_cross_entopy_with_logits(input=z,target=y)\n",
    "    net.zero_grad()\n",
    "    loss.backward()\n",
    "    net.update()\n",
    "    return loss"
   ]
  }
 ],
 "metadata": {
  "kernelspec": {
   "display_name": "practiceprojects-XTl8awCb",
   "language": "python",
   "name": "python3"
  },
  "language_info": {
   "codemirror_mode": {
    "name": "ipython",
    "version": 3
   },
   "file_extension": ".py",
   "mimetype": "text/x-python",
   "name": "python",
   "nbconvert_exporter": "python",
   "pygments_lexer": "ipython3",
   "version": "3.10.12"
  }
 },
 "nbformat": 4,
 "nbformat_minor": 5
}
