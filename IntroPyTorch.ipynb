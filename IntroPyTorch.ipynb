{
 "cells": [
  {
   "cell_type": "code",
   "execution_count": null,
   "id": "b323b894",
   "metadata": {},
   "outputs": [],
   "source": [
    "import torch\n",
    "torch.__version__"
   ]
  },
  {
   "cell_type": "code",
   "execution_count": null,
   "id": "1923bd87",
   "metadata": {},
   "outputs": [],
   "source": [
    "a = torch.tensor([[1.2][3,4]])\n",
    "print(a)\n",
    "a = torch.randn(size=(10,3))\n",
    "print(a)"
   ]
  },
  {
   "cell_type": "code",
   "execution_count": null,
   "id": "8850da73",
   "metadata": {},
   "outputs": [],
   "source": [
    "print(a-a[0])\n",
    "print(torch.exp(a)[0].numpy())"
   ]
  },
  {
   "cell_type": "code",
   "execution_count": null,
   "id": "d145aa3d",
   "metadata": {},
   "outputs": [],
   "source": [
    "u = torch.tensor(5)\n",
    "print(\"Result when adding out-of-place:\",u.add(torch.tensor(3)))\n",
    "u.add_(torch.tensor(3))\n",
    "print(\"Result after adding in-place:\",u)\n"
   ]
  },
  {
   "cell_type": "code",
   "execution_count": null,
   "id": "17be5f61",
   "metadata": {},
   "outputs": [],
   "source": [
    "s = torch.zeros_like(a[0])\n",
    "for i in a:\n",
    "    s.add_(i)\n",
    "print(s)"
   ]
  },
  {
   "cell_type": "code",
   "execution_count": null,
   "id": "1ab48bad",
   "metadata": {},
   "outputs": [],
   "source": [
    "torch.sum(a,axis=0)"
   ]
  },
  {
   "cell_type": "code",
   "execution_count": null,
   "id": "a782ab72",
   "metadata": {},
   "outputs": [],
   "source": [
    "a = torch.randn(size=(2,2), requires_grad=True)\n",
    "b = torch.randn(size=(2,2))\n",
    "\n",
    "c = torch.mean(torch.sqrt(torch.square(a) + torch.square(b)))\n",
    "c.backward()\n",
    "\n",
    "print(a.grad)"
   ]
  },
  {
   "cell_type": "code",
   "execution_count": null,
   "id": "4c385d41",
   "metadata": {},
   "outputs": [],
   "source": [
    "c = torch.mean(torch.sqrt(torch.square(a) + torch.square(b)))\n",
    "c.backward(retain_graph=True)\n",
    "c.backward(retain_graph=True)\n",
    "print(a.grad)\n",
    "a.grad.zero_()\n",
    "c.backward()\n",
    "print(a.grad)"
   ]
  },
  {
   "cell_type": "code",
   "execution_count": null,
   "id": "fd13870a",
   "metadata": {},
   "outputs": [],
   "source": [
    "c =torch.sqrt(torch.square(a) + torch.square(b))\n",
    "c.backward(torch.eye(2))\n",
    "print(a.grad)"
   ]
  },
  {
   "cell_type": "code",
   "execution_count": null,
   "id": "a5aa910f",
   "metadata": {},
   "outputs": [],
   "source": [
    "x = torch.zeros(2,require_grad=True)\n",
    "f = lambda x : (x-torch.tensor([3,-2])).pow(2).sum()\n",
    "lr = 0.1"
   ]
  },
  {
   "cell_type": "code",
   "execution_count": null,
   "id": "5fec69d7",
   "metadata": {},
   "outputs": [],
   "source": [
    "for i in range(15):\n",
    "    y =f(x)\n",
    "    y.backward()\n",
    "    gr = x.grad\n",
    "    x.data.add_(-lr*gr)\n",
    "    x.grad.zero_()\n",
    "    print(\"Step {}: x[0]={}, x[1]={}\".format(i,x[0],x[1]))"
   ]
  },
  {
   "cell_type": "code",
   "execution_count": 1,
   "id": "65000bb4",
   "metadata": {},
   "outputs": [],
   "source": [
    "import numpy as np\n",
    "import matplotlib.pyplot as plt\n",
    "from sklearn.datasets import make_classification, make_regression\n",
    "from sklearn.model_selection import train_test_split\n",
    "import random\n"
   ]
  },
  {
   "cell_type": "code",
   "execution_count": 2,
   "id": "212441ec",
   "metadata": {},
   "outputs": [
    {
     "data": {
      "text/plain": [
       "<matplotlib.collections.PathCollection at 0x24167725e50>"
      ]
     },
     "execution_count": 2,
     "metadata": {},
     "output_type": "execute_result"
    },
    {
     "data": {
      "image/png": "[encoded data removed]",
      "text/plain": [
       "<Figure size 640x480 with 1 Axes>"
      ]
     },
     "metadata": {},
     "output_type": "display_data"
    }
   ],
   "source": [
    "np.random.seed(13)\n",
    "\n",
    "train_x = np.linspace(0, 3, 120)\n",
    "train_labels = 2 * train_x + 0.9 + np.random.randn(*train_x.shape) * 0.5\n",
    "\n",
    "plt.scatter(train_x,train_labels)"
   ]
  },
  {
   "cell_type": "code",
   "execution_count": null,
   "id": "e3a35a65",
   "metadata": {},
   "outputs": [],
   "source": [
    "input_dim = 1\n",
    "output_dim = 1\n",
    "learning_rate = 0.1\n",
    "\n",
    "w = torch.tensor([100.0], reguires_grad=True,dtype=torch.float32)\n",
    "b = torch.zeros(size=(output_dim,),requires_grad=True)\n",
    "\n",
    "def f(x):\n",
    "    return torch.matmul(x,w) + b\n",
    "\n",
    "def compute_loss(labels, predictions):\n",
    "    return torch.mean(torch.square(labels - predictions))"
   ]
  },
  {
   "cell_type": "code",
   "execution_count": null,
   "id": "09771cec",
   "metadata": {},
   "outputs": [],
   "source": [
    "def train_on_batch(x, y):\n",
    "    predictions = f(x)\n",
    "    loss = compute_loss(y, predictions)\n",
    "    loss.backward()\n",
    "    w.data.sub_(learning_rate * w.grad)\n",
    "    b.data.sub_(learning_rate * b.grad)\n",
    "    w.grad.zero_()\n",
    "    b.grad.zero_()\n",
    "    return loss"
   ]
  }
 ],
 "metadata": {
  "kernelspec": {
   "display_name": "Python 3",
   "language": "python",
   "name": "python3"
  },
  "language_info": {
   "codemirror_mode": {
    "name": "ipython",
    "version": 3
   },
   "file_extension": ".py",
   "mimetype": "text/x-python",
   "name": "python",
   "nbconvert_exporter": "python",
   "pygments_lexer": "ipython3",
   "version": "3.11.9"
  }
 },
 "nbformat": 4,
 "nbformat_minor": 5
}
